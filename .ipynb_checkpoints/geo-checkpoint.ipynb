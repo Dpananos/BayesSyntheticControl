{
 "cells": [
  {
   "cell_type": "code",
   "execution_count": 1,
   "metadata": {},
   "outputs": [
    {
     "name": "stderr",
     "output_type": "stream",
     "text": [
      "WARNING (pytensor.tensor.blas): Using NumPy C-API based implementation for BLAS functions.\n"
     ]
    }
   ],
   "source": [
    "import numpy as np\n",
    "import cmdstanpy\n",
    "import matplotlib.pyplot as plt\n",
    "import causalpy as cp\n",
    "\n",
    "def simulate_regions(n_timesteps: int, n_regions: int) -> np.ndarray:\n",
    "    rng = np.random.RandomState(0)\n",
    "    time = np.arange(n_timesteps)\n",
    "    rfx_int = rng.normal(loc=0, scale=0.25, size=n_regions)\n",
    "    rfx_slope = rng.normal(loc=0, scale=0.2, size=n_regions)\n",
    "\n",
    "    expectation = np.exp(\n",
    "        (0.5 + rfx_slope) * np.sin(2 * np.pi * time.reshape(-1, 1) / 7) + 2.5 + rfx_int\n",
    "    ) \n",
    "\n",
    "    return expectation\n",
    "\n",
    "\n",
    "def create_counterfactuals(expectation: np.ndarray, lift=1.1) -> np.ndarray:\n",
    "    n_timesteps, n_regions = expectation.shape\n",
    "    rng = np.random.RandomState(0)\n",
    "\n",
    "    noise = rng.multivariate_normal(\n",
    "        mean=np.zeros(n_regions), cov=3.0*np.eye(n_regions), size=(2, n_timesteps)\n",
    "    )\n",
    "\n",
    "    Y0 = expectation + noise[0]\n",
    "    Y1 = lift * expectation + noise[1]\n",
    "\n",
    "    return Y0, Y1\n",
    "\n",
    "\n",
    "def create_geo_data(Y0: np.ndarray, Y1: np.ndarray, treat_time: int = 60, n_treated=1):\n",
    "    n_timesteps, n_regions = Y0.shape\n",
    "\n",
    "    treated_times = np.arange(n_timesteps) >= treat_time\n",
    "    treated_regions = np.arange(n_regions) < n_treated\n",
    "\n",
    "    yc0 = Y0[np.ix_(~treated_times, ~treated_regions)]\n",
    "    yc1 = Y0[np.ix_(treated_times, ~treated_regions)]\n",
    "    yt0 = Y0[np.ix_(~treated_times, treated_regions)]\n",
    "    yt1 = Y1[np.ix_(treated_times, treated_regions)]\n",
    "    return (yc0, yc1, yt0, yt1)\n",
    "\n",
    "\n",
    "\n",
    "expectation = simulate_regions(n_timesteps=120, n_regions=50)\n",
    "\n",
    "Y0, Y1 = create_counterfactuals(expectation)\n",
    "\n",
    "# yc0, yc1, yt0, yt1 = create_geo_data(Y0, Y1)\n",
    "\n",
    "# stan_data = dict(\n",
    "#     n_timesteps_pre=len(yc0),\n",
    "#     n_timesteps_post=len(yc1),\n",
    "#     n_control_regions=yc1.shape[1],\n",
    "#     n_treatment_regions=yt0.shape[1],\n",
    "#     y_control_pre=yc0,\n",
    "#     y_control_post=yc1,\n",
    "#     y_treatment_pre=yt0,\n",
    "#     y_treatment_post=yt1,\n",
    "#     sample=1,\n",
    "#     sum_to_one_constraint=1\n",
    "# )\n",
    "\n"
   ]
  },
  {
   "cell_type": "code",
   "execution_count": 2,
   "metadata": {},
   "outputs": [],
   "source": [
    "# df = cp.load_data(\"sc\")\n",
    "# treatment_time = 70\n",
    "\n",
    "# yc0 = df.loc[:treatment_time+1, list('abcdefg')].values\n",
    "# yc1 = df.loc[(treatment_time+1)::, list('abcdefg')].values\n",
    "\n",
    "# yt0 = df.loc[:treatment_time+1, ['actual']].values\n",
    "# yt1 = df.loc[(treatment_time+1)::, ['actual']].values\n",
    "\n",
    "# stan_data = dict(\n",
    "#     n_timesteps_pre=len(yc0),\n",
    "#     n_timesteps_post=len(yc1),\n",
    "#     n_control_regions=yc1.shape[1],\n",
    "#     n_treatment_regions=yt0.shape[1],\n",
    "#     y_control_pre=yc0,\n",
    "#     y_control_post=yc1,\n",
    "#     y_treatment_pre=yt0,\n",
    "#     y_treatment_post=yt1,\n",
    "#     sample=1,\n",
    "#     sum_to_one_constraint=1\n",
    "# )\n",
    "\n",
    "# plt.plot(np.r_[yt0, yt1])\n",
    "# plt.plot(np.r_[yc0, yc1], color = 'red')\n"
   ]
  },
  {
   "cell_type": "code",
   "execution_count": 3,
   "metadata": {},
   "outputs": [
    {
     "name": "stderr",
     "output_type": "stream",
     "text": [
      "18:56:35 - cmdstanpy - INFO - CmdStan start processing\n",
      "/Users/demetripananos/miniconda3/envs/datascience/lib/python3.11/site-packages/ipywidgets/widgets/widget.py:528: DeprecationWarning: The `ipykernel.comm.Comm` class has been deprecated. Please use the `comm` module instead.For creating comms, use the function `from comm import create_comm`.\n",
      "  self.comm = Comm(**args)\n",
      "/Users/demetripananos/miniconda3/envs/datascience/lib/python3.11/site-packages/ipywidgets/widgets/widget.py:528: DeprecationWarning: The `ipykernel.comm.Comm` class has been deprecated. Please use the `comm` module instead.For creating comms, use the function `from comm import create_comm`.\n",
      "  self.comm = Comm(**args)\n",
      "/Users/demetripananos/miniconda3/envs/datascience/lib/python3.11/site-packages/ipywidgets/widgets/widget.py:528: DeprecationWarning: The `ipykernel.comm.Comm` class has been deprecated. Please use the `comm` module instead.For creating comms, use the function `from comm import create_comm`.\n",
      "  self.comm = Comm(**args)\n",
      "/Users/demetripananos/miniconda3/envs/datascience/lib/python3.11/site-packages/ipywidgets/widgets/widget.py:528: DeprecationWarning: The `ipykernel.comm.Comm` class has been deprecated. Please use the `comm` module instead.For creating comms, use the function `from comm import create_comm`.\n",
      "  self.comm = Comm(**args)\n",
      "/Users/demetripananos/miniconda3/envs/datascience/lib/python3.11/site-packages/ipywidgets/widgets/widget.py:528: DeprecationWarning: The `ipykernel.comm.Comm` class has been deprecated. Please use the `comm` module instead.For creating comms, use the function `from comm import create_comm`.\n",
      "  self.comm = Comm(**args)\n",
      "/Users/demetripananos/miniconda3/envs/datascience/lib/python3.11/site-packages/ipywidgets/widgets/widget.py:528: DeprecationWarning: The `ipykernel.comm.Comm` class has been deprecated. Please use the `comm` module instead.For creating comms, use the function `from comm import create_comm`.\n",
      "  self.comm = Comm(**args)\n",
      "/Users/demetripananos/miniconda3/envs/datascience/lib/python3.11/site-packages/ipywidgets/widgets/widget.py:528: DeprecationWarning: The `ipykernel.comm.Comm` class has been deprecated. Please use the `comm` module instead.For creating comms, use the function `from comm import create_comm`.\n",
      "  self.comm = Comm(**args)\n",
      "/Users/demetripananos/miniconda3/envs/datascience/lib/python3.11/site-packages/ipywidgets/widgets/widget.py:528: DeprecationWarning: The `ipykernel.comm.Comm` class has been deprecated. Please use the `comm` module instead.For creating comms, use the function `from comm import create_comm`.\n",
      "  self.comm = Comm(**args)\n",
      "/Users/demetripananos/miniconda3/envs/datascience/lib/python3.11/site-packages/ipywidgets/widgets/widget.py:528: DeprecationWarning: The `ipykernel.comm.Comm` class has been deprecated. Please use the `comm` module instead.For creating comms, use the function `from comm import create_comm`.\n",
      "  self.comm = Comm(**args)\n",
      "/Users/demetripananos/miniconda3/envs/datascience/lib/python3.11/site-packages/ipywidgets/widgets/widget.py:528: DeprecationWarning: The `ipykernel.comm.Comm` class has been deprecated. Please use the `comm` module instead.For creating comms, use the function `from comm import create_comm`.\n",
      "  self.comm = Comm(**args)\n",
      "/Users/demetripananos/miniconda3/envs/datascience/lib/python3.11/site-packages/ipywidgets/widgets/widget.py:528: DeprecationWarning: The `ipykernel.comm.Comm` class has been deprecated. Please use the `comm` module instead.For creating comms, use the function `from comm import create_comm`.\n",
      "  self.comm = Comm(**args)\n"
     ]
    },
    {
     "data": {
      "application/vnd.jupyter.widget-view+json": {
       "model_id": "369e4356584f49eea35e3963b158c5a3",
       "version_major": 2,
       "version_minor": 0
      },
      "text/plain": [
       "chain 1 |          | 00:00 Status"
      ]
     },
     "metadata": {},
     "output_type": "display_data"
    },
    {
     "name": "stderr",
     "output_type": "stream",
     "text": [
      "/Users/demetripananos/miniconda3/envs/datascience/lib/python3.11/site-packages/ipywidgets/widgets/widget.py:528: DeprecationWarning: The `ipykernel.comm.Comm` class has been deprecated. Please use the `comm` module instead.For creating comms, use the function `from comm import create_comm`.\n",
      "  self.comm = Comm(**args)\n",
      "/Users/demetripananos/miniconda3/envs/datascience/lib/python3.11/site-packages/ipywidgets/widgets/widget.py:528: DeprecationWarning: The `ipykernel.comm.Comm` class has been deprecated. Please use the `comm` module instead.For creating comms, use the function `from comm import create_comm`.\n",
      "  self.comm = Comm(**args)\n",
      "/Users/demetripananos/miniconda3/envs/datascience/lib/python3.11/site-packages/ipywidgets/widgets/widget.py:528: DeprecationWarning: The `ipykernel.comm.Comm` class has been deprecated. Please use the `comm` module instead.For creating comms, use the function `from comm import create_comm`.\n",
      "  self.comm = Comm(**args)\n",
      "/Users/demetripananos/miniconda3/envs/datascience/lib/python3.11/site-packages/ipywidgets/widgets/widget.py:528: DeprecationWarning: The `ipykernel.comm.Comm` class has been deprecated. Please use the `comm` module instead.For creating comms, use the function `from comm import create_comm`.\n",
      "  self.comm = Comm(**args)\n",
      "/Users/demetripananos/miniconda3/envs/datascience/lib/python3.11/site-packages/ipywidgets/widgets/widget.py:528: DeprecationWarning: The `ipykernel.comm.Comm` class has been deprecated. Please use the `comm` module instead.For creating comms, use the function `from comm import create_comm`.\n",
      "  self.comm = Comm(**args)\n",
      "/Users/demetripananos/miniconda3/envs/datascience/lib/python3.11/site-packages/ipywidgets/widgets/widget.py:528: DeprecationWarning: The `ipykernel.comm.Comm` class has been deprecated. Please use the `comm` module instead.For creating comms, use the function `from comm import create_comm`.\n",
      "  self.comm = Comm(**args)\n",
      "/Users/demetripananos/miniconda3/envs/datascience/lib/python3.11/site-packages/ipywidgets/widgets/widget.py:528: DeprecationWarning: The `ipykernel.comm.Comm` class has been deprecated. Please use the `comm` module instead.For creating comms, use the function `from comm import create_comm`.\n",
      "  self.comm = Comm(**args)\n",
      "/Users/demetripananos/miniconda3/envs/datascience/lib/python3.11/site-packages/ipywidgets/widgets/widget.py:528: DeprecationWarning: The `ipykernel.comm.Comm` class has been deprecated. Please use the `comm` module instead.For creating comms, use the function `from comm import create_comm`.\n",
      "  self.comm = Comm(**args)\n",
      "/Users/demetripananos/miniconda3/envs/datascience/lib/python3.11/site-packages/ipywidgets/widgets/widget.py:528: DeprecationWarning: The `ipykernel.comm.Comm` class has been deprecated. Please use the `comm` module instead.For creating comms, use the function `from comm import create_comm`.\n",
      "  self.comm = Comm(**args)\n",
      "/Users/demetripananos/miniconda3/envs/datascience/lib/python3.11/site-packages/ipywidgets/widgets/widget.py:528: DeprecationWarning: The `ipykernel.comm.Comm` class has been deprecated. Please use the `comm` module instead.For creating comms, use the function `from comm import create_comm`.\n",
      "  self.comm = Comm(**args)\n",
      "/Users/demetripananos/miniconda3/envs/datascience/lib/python3.11/site-packages/ipywidgets/widgets/widget.py:528: DeprecationWarning: The `ipykernel.comm.Comm` class has been deprecated. Please use the `comm` module instead.For creating comms, use the function `from comm import create_comm`.\n",
      "  self.comm = Comm(**args)\n"
     ]
    },
    {
     "data": {
      "application/vnd.jupyter.widget-view+json": {
       "model_id": "b10a054fd43048858d44076acb61de9d",
       "version_major": 2,
       "version_minor": 0
      },
      "text/plain": [
       "chain 2 |          | 00:00 Status"
      ]
     },
     "metadata": {},
     "output_type": "display_data"
    },
    {
     "name": "stderr",
     "output_type": "stream",
     "text": [
      "/Users/demetripananos/miniconda3/envs/datascience/lib/python3.11/site-packages/ipywidgets/widgets/widget.py:528: DeprecationWarning: The `ipykernel.comm.Comm` class has been deprecated. Please use the `comm` module instead.For creating comms, use the function `from comm import create_comm`.\n",
      "  self.comm = Comm(**args)\n",
      "/Users/demetripananos/miniconda3/envs/datascience/lib/python3.11/site-packages/ipywidgets/widgets/widget.py:528: DeprecationWarning: The `ipykernel.comm.Comm` class has been deprecated. Please use the `comm` module instead.For creating comms, use the function `from comm import create_comm`.\n",
      "  self.comm = Comm(**args)\n",
      "/Users/demetripananos/miniconda3/envs/datascience/lib/python3.11/site-packages/ipywidgets/widgets/widget.py:528: DeprecationWarning: The `ipykernel.comm.Comm` class has been deprecated. Please use the `comm` module instead.For creating comms, use the function `from comm import create_comm`.\n",
      "  self.comm = Comm(**args)\n",
      "/Users/demetripananos/miniconda3/envs/datascience/lib/python3.11/site-packages/ipywidgets/widgets/widget.py:528: DeprecationWarning: The `ipykernel.comm.Comm` class has been deprecated. Please use the `comm` module instead.For creating comms, use the function `from comm import create_comm`.\n",
      "  self.comm = Comm(**args)\n",
      "/Users/demetripananos/miniconda3/envs/datascience/lib/python3.11/site-packages/ipywidgets/widgets/widget.py:528: DeprecationWarning: The `ipykernel.comm.Comm` class has been deprecated. Please use the `comm` module instead.For creating comms, use the function `from comm import create_comm`.\n",
      "  self.comm = Comm(**args)\n",
      "/Users/demetripananos/miniconda3/envs/datascience/lib/python3.11/site-packages/ipywidgets/widgets/widget.py:528: DeprecationWarning: The `ipykernel.comm.Comm` class has been deprecated. Please use the `comm` module instead.For creating comms, use the function `from comm import create_comm`.\n",
      "  self.comm = Comm(**args)\n",
      "/Users/demetripananos/miniconda3/envs/datascience/lib/python3.11/site-packages/ipywidgets/widgets/widget.py:528: DeprecationWarning: The `ipykernel.comm.Comm` class has been deprecated. Please use the `comm` module instead.For creating comms, use the function `from comm import create_comm`.\n",
      "  self.comm = Comm(**args)\n",
      "/Users/demetripananos/miniconda3/envs/datascience/lib/python3.11/site-packages/ipywidgets/widgets/widget.py:528: DeprecationWarning: The `ipykernel.comm.Comm` class has been deprecated. Please use the `comm` module instead.For creating comms, use the function `from comm import create_comm`.\n",
      "  self.comm = Comm(**args)\n",
      "/Users/demetripananos/miniconda3/envs/datascience/lib/python3.11/site-packages/ipywidgets/widgets/widget.py:528: DeprecationWarning: The `ipykernel.comm.Comm` class has been deprecated. Please use the `comm` module instead.For creating comms, use the function `from comm import create_comm`.\n",
      "  self.comm = Comm(**args)\n",
      "/Users/demetripananos/miniconda3/envs/datascience/lib/python3.11/site-packages/ipywidgets/widgets/widget.py:528: DeprecationWarning: The `ipykernel.comm.Comm` class has been deprecated. Please use the `comm` module instead.For creating comms, use the function `from comm import create_comm`.\n",
      "  self.comm = Comm(**args)\n",
      "/Users/demetripananos/miniconda3/envs/datascience/lib/python3.11/site-packages/ipywidgets/widgets/widget.py:528: DeprecationWarning: The `ipykernel.comm.Comm` class has been deprecated. Please use the `comm` module instead.For creating comms, use the function `from comm import create_comm`.\n",
      "  self.comm = Comm(**args)\n"
     ]
    },
    {
     "data": {
      "application/vnd.jupyter.widget-view+json": {
       "model_id": "bbd28ec6b3054944a2e26d89f5888886",
       "version_major": 2,
       "version_minor": 0
      },
      "text/plain": [
       "chain 3 |          | 00:00 Status"
      ]
     },
     "metadata": {},
     "output_type": "display_data"
    },
    {
     "name": "stderr",
     "output_type": "stream",
     "text": [
      "/Users/demetripananos/miniconda3/envs/datascience/lib/python3.11/site-packages/ipywidgets/widgets/widget.py:528: DeprecationWarning: The `ipykernel.comm.Comm` class has been deprecated. Please use the `comm` module instead.For creating comms, use the function `from comm import create_comm`.\n",
      "  self.comm = Comm(**args)\n",
      "/Users/demetripananos/miniconda3/envs/datascience/lib/python3.11/site-packages/ipywidgets/widgets/widget.py:528: DeprecationWarning: The `ipykernel.comm.Comm` class has been deprecated. Please use the `comm` module instead.For creating comms, use the function `from comm import create_comm`.\n",
      "  self.comm = Comm(**args)\n",
      "/Users/demetripananos/miniconda3/envs/datascience/lib/python3.11/site-packages/ipywidgets/widgets/widget.py:528: DeprecationWarning: The `ipykernel.comm.Comm` class has been deprecated. Please use the `comm` module instead.For creating comms, use the function `from comm import create_comm`.\n",
      "  self.comm = Comm(**args)\n",
      "/Users/demetripananos/miniconda3/envs/datascience/lib/python3.11/site-packages/ipywidgets/widgets/widget.py:528: DeprecationWarning: The `ipykernel.comm.Comm` class has been deprecated. Please use the `comm` module instead.For creating comms, use the function `from comm import create_comm`.\n",
      "  self.comm = Comm(**args)\n",
      "/Users/demetripananos/miniconda3/envs/datascience/lib/python3.11/site-packages/ipywidgets/widgets/widget.py:528: DeprecationWarning: The `ipykernel.comm.Comm` class has been deprecated. Please use the `comm` module instead.For creating comms, use the function `from comm import create_comm`.\n",
      "  self.comm = Comm(**args)\n",
      "/Users/demetripananos/miniconda3/envs/datascience/lib/python3.11/site-packages/ipywidgets/widgets/widget.py:528: DeprecationWarning: The `ipykernel.comm.Comm` class has been deprecated. Please use the `comm` module instead.For creating comms, use the function `from comm import create_comm`.\n",
      "  self.comm = Comm(**args)\n",
      "/Users/demetripananos/miniconda3/envs/datascience/lib/python3.11/site-packages/ipywidgets/widgets/widget.py:528: DeprecationWarning: The `ipykernel.comm.Comm` class has been deprecated. Please use the `comm` module instead.For creating comms, use the function `from comm import create_comm`.\n",
      "  self.comm = Comm(**args)\n",
      "/Users/demetripananos/miniconda3/envs/datascience/lib/python3.11/site-packages/ipywidgets/widgets/widget.py:528: DeprecationWarning: The `ipykernel.comm.Comm` class has been deprecated. Please use the `comm` module instead.For creating comms, use the function `from comm import create_comm`.\n",
      "  self.comm = Comm(**args)\n",
      "/Users/demetripananos/miniconda3/envs/datascience/lib/python3.11/site-packages/ipywidgets/widgets/widget.py:528: DeprecationWarning: The `ipykernel.comm.Comm` class has been deprecated. Please use the `comm` module instead.For creating comms, use the function `from comm import create_comm`.\n",
      "  self.comm = Comm(**args)\n",
      "/Users/demetripananos/miniconda3/envs/datascience/lib/python3.11/site-packages/ipywidgets/widgets/widget.py:528: DeprecationWarning: The `ipykernel.comm.Comm` class has been deprecated. Please use the `comm` module instead.For creating comms, use the function `from comm import create_comm`.\n",
      "  self.comm = Comm(**args)\n",
      "/Users/demetripananos/miniconda3/envs/datascience/lib/python3.11/site-packages/ipywidgets/widgets/widget.py:528: DeprecationWarning: The `ipykernel.comm.Comm` class has been deprecated. Please use the `comm` module instead.For creating comms, use the function `from comm import create_comm`.\n",
      "  self.comm = Comm(**args)\n"
     ]
    },
    {
     "data": {
      "application/vnd.jupyter.widget-view+json": {
       "model_id": "df99b2d4583046ed95baca9b7ecabb9a",
       "version_major": 2,
       "version_minor": 0
      },
      "text/plain": [
       "chain 4 |          | 00:00 Status"
      ]
     },
     "metadata": {},
     "output_type": "display_data"
    },
    {
     "name": "stdout",
     "output_type": "stream",
     "text": [
      "                                                                                                                                                                                                                                                                                                                                "
     ]
    },
    {
     "name": "stderr",
     "output_type": "stream",
     "text": [
      "18:56:35 - cmdstanpy - INFO - CmdStan done processing.\n",
      "18:56:35 - cmdstanpy - WARNING - Non-fatal error during sampling:\n",
      "Exception: normal_id_glm_lpdf: Scale vector is inf, but must be positive finite! (in 'geo_model.stan', line 92, column 12 to column 128)\n",
      "Consider re-running with show_console=True if the above output is unclear!\n"
     ]
    },
    {
     "name": "stdout",
     "output_type": "stream",
     "text": [
      "\n",
      "Processing csv files: /var/folders/tz/6cbs4vm91539frf3vzvqjmcr0000gn/T/tmpm11u4xwu/geo_modelxt8h2ofd/geo_model-20241110185635_1.csv, /var/folders/tz/6cbs4vm91539frf3vzvqjmcr0000gn/T/tmpm11u4xwu/geo_modelxt8h2ofd/geo_model-20241110185635_2.csv, /var/folders/tz/6cbs4vm91539frf3vzvqjmcr0000gn/T/tmpm11u4xwu/geo_modelxt8h2ofd/geo_model-20241110185635_3.csv, /var/folders/tz/6cbs4vm91539frf3vzvqjmcr0000gn/T/tmpm11u4xwu/geo_modelxt8h2ofd/geo_model-20241110185635_4.csv\n",
      "\n",
      "Checking sampler transitions treedepth.\n",
      "Treedepth satisfactory for all transitions.\n",
      "\n",
      "Checking sampler transitions for divergences.\n",
      "No divergent transitions found.\n",
      "\n",
      "Checking E-BFMI - sampler transitions HMC potential energy.\n",
      "E-BFMI satisfactory.\n",
      "\n",
      "Effective sample size satisfactory.\n",
      "\n",
      "Split R-hat values satisfactory all parameters.\n",
      "\n",
      "Processing complete, no problems detected.\n",
      "\n"
     ]
    }
   ],
   "source": [
    "model = cmdstanpy.CmdStanModel(stan_file=\"geo_model.stan\")\n",
    "fit = model.sample(data=stan_data, show_console=False)\n",
    "print(fit.diagnose())"
   ]
  },
  {
   "cell_type": "code",
   "execution_count": 4,
   "metadata": {},
   "outputs": [],
   "source": [
    "draws = fit.stan_variables()"
   ]
  },
  {
   "cell_type": "code",
   "execution_count": 5,
   "metadata": {},
   "outputs": [
    {
     "ename": "IndexError",
     "evalue": "index 1 is out of bounds for axis 2 with size 1",
     "output_type": "error",
     "traceback": [
      "\u001b[0;31m---------------------------------------------------------------------------\u001b[0m",
      "\u001b[0;31mIndexError\u001b[0m                                Traceback (most recent call last)",
      "Cell \u001b[0;32mIn[5], line 6\u001b[0m\n\u001b[1;32m      2\u001b[0m ax \u001b[38;5;241m=\u001b[39m ax\u001b[38;5;241m.\u001b[39mravel()\n\u001b[1;32m      4\u001b[0m \u001b[38;5;28;01mfor\u001b[39;00m i,a \u001b[38;5;129;01min\u001b[39;00m \u001b[38;5;28menumerate\u001b[39m(ax):\n\u001b[0;32m----> 6\u001b[0m     a\u001b[38;5;241m.\u001b[39mplot(draws[\u001b[38;5;124m'\u001b[39m\u001b[38;5;124minsample_fit\u001b[39m\u001b[38;5;124m'\u001b[39m][:, :, i]\u001b[38;5;241m.\u001b[39mT, color\u001b[38;5;241m=\u001b[39m\u001b[38;5;124m'\u001b[39m\u001b[38;5;124mC0\u001b[39m\u001b[38;5;124m'\u001b[39m, alpha\u001b[38;5;241m=\u001b[39m\u001b[38;5;241m0.05\u001b[39m)\n\u001b[1;32m      7\u001b[0m     a\u001b[38;5;241m.\u001b[39mplot(yt0[:, i], color\u001b[38;5;241m=\u001b[39m\u001b[38;5;124m'\u001b[39m\u001b[38;5;124mred\u001b[39m\u001b[38;5;124m'\u001b[39m)\n",
      "\u001b[0;31mIndexError\u001b[0m: index 1 is out of bounds for axis 2 with size 1"
     ]
    },
    {
     "data": {
      "image/png": "[encoded data removed]",
      "text/plain": [
       "<Figure size 720x480 with 9 Axes>"
      ]
     },
     "metadata": {},
     "output_type": "display_data"
    }
   ],
   "source": [
    "fig, ax = plt.subplots(ncols=3, nrows=3)\n",
    "ax = ax.ravel()\n",
    "\n",
    "for i,a in enumerate(ax):\n",
    "\n",
    "    a.plot(draws['insample_fit'][:, :, i].T, color='C0', alpha=0.05)\n",
    "    a.plot(yt0[:, i], color='red')"
   ]
  },
  {
   "cell_type": "code",
   "execution_count": null,
   "metadata": {},
   "outputs": [],
   "source": [
    "fig, ax = plt.subplots(ncols=3, nrows=3)\n",
    "ax = ax.ravel()\n",
    "\n",
    "for i,a in enumerate(ax):\n",
    "\n",
    "    a.plot(draws['expected_counterfactual'][:, :, i].T, color='C0', alpha=0.05)\n",
    "    a.plot(yt1[:, i], color='red')"
   ]
  },
  {
   "cell_type": "code",
   "execution_count": null,
   "metadata": {},
   "outputs": [],
   "source": [
    "plt.hist(draws['total_lift'], edgecolor='white')"
   ]
  },
  {
   "cell_type": "code",
   "execution_count": null,
   "metadata": {},
   "outputs": [],
   "source": []
  },
  {
   "cell_type": "code",
   "execution_count": null,
   "metadata": {},
   "outputs": [],
   "source": []
  }
 ],
 "metadata": {
  "kernelspec": {
   "display_name": "Python 3 (ipykernel)",
   "language": "python",
   "name": "python3"
  },
  "language_info": {
   "codemirror_mode": {
    "name": "ipython",
    "version": 3
   },
   "file_extension": ".py",
   "mimetype": "text/x-python",
   "name": "python",
   "nbconvert_exporter": "python",
   "pygments_lexer": "ipython3",
   "version": "3.11.8"
  }
 },
 "nbformat": 4,
 "nbformat_minor": 4
}
